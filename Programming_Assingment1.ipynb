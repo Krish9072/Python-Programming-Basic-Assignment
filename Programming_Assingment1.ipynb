{
 "cells": [
  {
   "cell_type": "code",
   "execution_count": 29,
   "metadata": {},
   "outputs": [
    {
     "name": "stdout",
     "output_type": "stream",
     "text": [
      "Hello Python\n"
     ]
    }
   ],
   "source": [
    "#1.\tWrite a Python program to print \"Hello Python\"?\n",
    "#Program: \n",
    "s = \"Hello Python\"  #string we want to print\n",
    "print(s)"
   ]
  },
  {
   "cell_type": "code",
   "execution_count": 34,
   "metadata": {},
   "outputs": [
    {
     "name": "stdout",
     "output_type": "stream",
     "text": [
      "Enter the first number: 3\n",
      "Enter the second number: 4\n",
      "additon of 3.0, 4.0 is: 7.0\n",
      "division of 3.0 by 4.0 is: 0.75\n"
     ]
    }
   ],
   "source": [
    "#2.\tWrite a Python program to do arithmetical operations addition and division.?\n",
    "#Program:\n",
    "a = float(input(\"Enter the first number: \"))\n",
    "b = float(input(\"Enter the second number: \"))\n",
    "#addition\n",
    "sum1 = a + b\n",
    "#division\n",
    "div = a/b\n",
    "print(\"additon of {0}, {1} is: {2}\".format(a,b,sum1))\n",
    "print(\"division of {0} by {1} is: {2}\".format(a,b,div))"
   ]
  },
  {
   "cell_type": "code",
   "execution_count": 32,
   "metadata": {},
   "outputs": [
    {
     "name": "stdout",
     "output_type": "stream",
     "text": [
      "Enter the base of triangle: 4\n",
      "Enter the height of triangle: 3\n",
      "Area of triangle is 6.0\n"
     ]
    }
   ],
   "source": [
    "#3.\tWrite a Python program to find the area of a triangle?\n",
    "#Program:\n",
    "b = float(input(\"Enter the base of triangle: \"))   # Base of triangle \n",
    "h = float(input(\"Enter the height of triangle: \")) # Height of triangle\n",
    "a = (1/2)*b*h  # Area of triangle\n",
    "print(\"Area of triangle is {0}\".format(a))"
   ]
  },
  {
   "cell_type": "code",
   "execution_count": 31,
   "metadata": {},
   "outputs": [
    {
     "name": "stdout",
     "output_type": "stream",
     "text": [
      "Enter variable a: 30\n",
      "Enter variable b: 40\n",
      "Value of a: 40 and value of b: 30\n"
     ]
    }
   ],
   "source": [
    "#4.\tWrite a Python program to swap two variables?\n",
    "#Program:\n",
    "a = input(\"Enter variable a: \") # Enter the first variable\n",
    "b = input(\"Enter variable b: \") # Enter the second variable\n",
    "c = a #temporary variable\n",
    "a = b\n",
    "b = c\n",
    "print(\"Value of a: {0} and value of b: {1}\".format(a, b))"
   ]
  },
  {
   "cell_type": "code",
   "execution_count": 30,
   "metadata": {},
   "outputs": [
    {
     "name": "stdout",
     "output_type": "stream",
     "text": [
      "Random number: 0.0369039326453543\n"
     ]
    }
   ],
   "source": [
    "#5.\tWrite a Python program to generate a random number?\n",
    "#program:\n",
    "import random  #Importing the random module \n",
    "a = random.random()\n",
    "print(\"Random number:\",a)"
   ]
  }
 ],
 "metadata": {
  "kernelspec": {
   "display_name": "Python 3",
   "language": "python",
   "name": "python3"
  },
  "language_info": {
   "codemirror_mode": {
    "name": "ipython",
    "version": 3
   },
   "file_extension": ".py",
   "mimetype": "text/x-python",
   "name": "python",
   "nbconvert_exporter": "python",
   "pygments_lexer": "ipython3",
   "version": "3.7.4"
  }
 },
 "nbformat": 4,
 "nbformat_minor": 2
}
